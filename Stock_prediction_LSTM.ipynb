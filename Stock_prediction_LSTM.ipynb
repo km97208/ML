{
  "nbformat": 4,
  "nbformat_minor": 0,
  "metadata": {
    "colab": {
      "provenance": []
    },
    "kernelspec": {
      "name": "python3",
      "display_name": "Python 3"
    },
    "language_info": {
      "name": "python"
    },
    "gpuClass": "standard"
  },
  "cells": [
    {
      "cell_type": "code",
      "execution_count": null,
      "metadata": {
        "id": "4p1aaAP_smTb"
      },
      "outputs": [],
      "source": [
        "import matplotlib.pyplot as plt\n",
        "import numpy as np\n",
        "import scipy.io\n",
        "import pandas as pd\n",
        "import tensorflow as tf\n",
        "\n",
        "from tensorflow import keras\n",
        "from tensorflow.keras import layers\n",
        "from tensorflow.keras.models import Sequential\n",
        "from keras.layers import Dense, SimpleRNN, LSTM\n",
        "from sklearn.preprocessing import MinMaxScaler\n",
        "from sklearn.metrics import mean_squared_error"
      ]
    },
    {
      "cell_type": "code",
      "source": [
        "df = pd.read_csv('SLF-PC.TO.csv')\n",
        "df.head()"
      ],
      "metadata": {
        "colab": {
          "base_uri": "https://localhost:8080/",
          "height": 206
        },
        "id": "0l77piYEs8S2",
        "outputId": "6649ad9c-9b26-414e-dfe0-561b964a4d34"
      },
      "execution_count": null,
      "outputs": [
        {
          "output_type": "execute_result",
          "data": {
            "text/plain": [
              "         Date       Open       High        Low      Close  Adj Close  Volume\n",
              "0  2017-11-20  22.030001  22.049999  22.030001  22.049999  17.091322    1762\n",
              "1  2017-11-21  22.090000  22.219999  22.090000  22.219999  17.223089    5035\n",
              "2  2017-11-22  22.219999  22.280001  22.219999  22.280001  17.269606    3959\n",
              "3  2017-11-23  22.200001  22.320000  22.200001  22.260000  17.254097     650\n",
              "4  2017-11-24  22.250000  22.260000  22.250000  22.260000  17.254097     200"
            ],
            "text/html": [
              "\n",
              "  <div id=\"df-e11a0128-7728-424d-9794-c02fd3b15a2e\">\n",
              "    <div class=\"colab-df-container\">\n",
              "      <div>\n",
              "<style scoped>\n",
              "    .dataframe tbody tr th:only-of-type {\n",
              "        vertical-align: middle;\n",
              "    }\n",
              "\n",
              "    .dataframe tbody tr th {\n",
              "        vertical-align: top;\n",
              "    }\n",
              "\n",
              "    .dataframe thead th {\n",
              "        text-align: right;\n",
              "    }\n",
              "</style>\n",
              "<table border=\"1\" class=\"dataframe\">\n",
              "  <thead>\n",
              "    <tr style=\"text-align: right;\">\n",
              "      <th></th>\n",
              "      <th>Date</th>\n",
              "      <th>Open</th>\n",
              "      <th>High</th>\n",
              "      <th>Low</th>\n",
              "      <th>Close</th>\n",
              "      <th>Adj Close</th>\n",
              "      <th>Volume</th>\n",
              "    </tr>\n",
              "  </thead>\n",
              "  <tbody>\n",
              "    <tr>\n",
              "      <th>0</th>\n",
              "      <td>2017-11-20</td>\n",
              "      <td>22.030001</td>\n",
              "      <td>22.049999</td>\n",
              "      <td>22.030001</td>\n",
              "      <td>22.049999</td>\n",
              "      <td>17.091322</td>\n",
              "      <td>1762</td>\n",
              "    </tr>\n",
              "    <tr>\n",
              "      <th>1</th>\n",
              "      <td>2017-11-21</td>\n",
              "      <td>22.090000</td>\n",
              "      <td>22.219999</td>\n",
              "      <td>22.090000</td>\n",
              "      <td>22.219999</td>\n",
              "      <td>17.223089</td>\n",
              "      <td>5035</td>\n",
              "    </tr>\n",
              "    <tr>\n",
              "      <th>2</th>\n",
              "      <td>2017-11-22</td>\n",
              "      <td>22.219999</td>\n",
              "      <td>22.280001</td>\n",
              "      <td>22.219999</td>\n",
              "      <td>22.280001</td>\n",
              "      <td>17.269606</td>\n",
              "      <td>3959</td>\n",
              "    </tr>\n",
              "    <tr>\n",
              "      <th>3</th>\n",
              "      <td>2017-11-23</td>\n",
              "      <td>22.200001</td>\n",
              "      <td>22.320000</td>\n",
              "      <td>22.200001</td>\n",
              "      <td>22.260000</td>\n",
              "      <td>17.254097</td>\n",
              "      <td>650</td>\n",
              "    </tr>\n",
              "    <tr>\n",
              "      <th>4</th>\n",
              "      <td>2017-11-24</td>\n",
              "      <td>22.250000</td>\n",
              "      <td>22.260000</td>\n",
              "      <td>22.250000</td>\n",
              "      <td>22.260000</td>\n",
              "      <td>17.254097</td>\n",
              "      <td>200</td>\n",
              "    </tr>\n",
              "  </tbody>\n",
              "</table>\n",
              "</div>\n",
              "      <button class=\"colab-df-convert\" onclick=\"convertToInteractive('df-e11a0128-7728-424d-9794-c02fd3b15a2e')\"\n",
              "              title=\"Convert this dataframe to an interactive table.\"\n",
              "              style=\"display:none;\">\n",
              "        \n",
              "  <svg xmlns=\"http://www.w3.org/2000/svg\" height=\"24px\"viewBox=\"0 0 24 24\"\n",
              "       width=\"24px\">\n",
              "    <path d=\"M0 0h24v24H0V0z\" fill=\"none\"/>\n",
              "    <path d=\"M18.56 5.44l.94 2.06.94-2.06 2.06-.94-2.06-.94-.94-2.06-.94 2.06-2.06.94zm-11 1L8.5 8.5l.94-2.06 2.06-.94-2.06-.94L8.5 2.5l-.94 2.06-2.06.94zm10 10l.94 2.06.94-2.06 2.06-.94-2.06-.94-.94-2.06-.94 2.06-2.06.94z\"/><path d=\"M17.41 7.96l-1.37-1.37c-.4-.4-.92-.59-1.43-.59-.52 0-1.04.2-1.43.59L10.3 9.45l-7.72 7.72c-.78.78-.78 2.05 0 2.83L4 21.41c.39.39.9.59 1.41.59.51 0 1.02-.2 1.41-.59l7.78-7.78 2.81-2.81c.8-.78.8-2.07 0-2.86zM5.41 20L4 18.59l7.72-7.72 1.47 1.35L5.41 20z\"/>\n",
              "  </svg>\n",
              "      </button>\n",
              "      \n",
              "  <style>\n",
              "    .colab-df-container {\n",
              "      display:flex;\n",
              "      flex-wrap:wrap;\n",
              "      gap: 12px;\n",
              "    }\n",
              "\n",
              "    .colab-df-convert {\n",
              "      background-color: #E8F0FE;\n",
              "      border: none;\n",
              "      border-radius: 50%;\n",
              "      cursor: pointer;\n",
              "      display: none;\n",
              "      fill: #1967D2;\n",
              "      height: 32px;\n",
              "      padding: 0 0 0 0;\n",
              "      width: 32px;\n",
              "    }\n",
              "\n",
              "    .colab-df-convert:hover {\n",
              "      background-color: #E2EBFA;\n",
              "      box-shadow: 0px 1px 2px rgba(60, 64, 67, 0.3), 0px 1px 3px 1px rgba(60, 64, 67, 0.15);\n",
              "      fill: #174EA6;\n",
              "    }\n",
              "\n",
              "    [theme=dark] .colab-df-convert {\n",
              "      background-color: #3B4455;\n",
              "      fill: #D2E3FC;\n",
              "    }\n",
              "\n",
              "    [theme=dark] .colab-df-convert:hover {\n",
              "      background-color: #434B5C;\n",
              "      box-shadow: 0px 1px 3px 1px rgba(0, 0, 0, 0.15);\n",
              "      filter: drop-shadow(0px 1px 2px rgba(0, 0, 0, 0.3));\n",
              "      fill: #FFFFFF;\n",
              "    }\n",
              "  </style>\n",
              "\n",
              "      <script>\n",
              "        const buttonEl =\n",
              "          document.querySelector('#df-e11a0128-7728-424d-9794-c02fd3b15a2e button.colab-df-convert');\n",
              "        buttonEl.style.display =\n",
              "          google.colab.kernel.accessAllowed ? 'block' : 'none';\n",
              "\n",
              "        async function convertToInteractive(key) {\n",
              "          const element = document.querySelector('#df-e11a0128-7728-424d-9794-c02fd3b15a2e');\n",
              "          const dataTable =\n",
              "            await google.colab.kernel.invokeFunction('convertToInteractive',\n",
              "                                                     [key], {});\n",
              "          if (!dataTable) return;\n",
              "\n",
              "          const docLinkHtml = 'Like what you see? Visit the ' +\n",
              "            '<a target=\"_blank\" href=https://colab.research.google.com/notebooks/data_table.ipynb>data table notebook</a>'\n",
              "            + ' to learn more about interactive tables.';\n",
              "          element.innerHTML = '';\n",
              "          dataTable['output_type'] = 'display_data';\n",
              "          await google.colab.output.renderOutput(dataTable, element);\n",
              "          const docLink = document.createElement('div');\n",
              "          docLink.innerHTML = docLinkHtml;\n",
              "          element.appendChild(docLink);\n",
              "        }\n",
              "      </script>\n",
              "    </div>\n",
              "  </div>\n",
              "  "
            ]
          },
          "metadata": {},
          "execution_count": 28
        }
      ]
    },
    {
      "cell_type": "code",
      "source": [
        "data = df.drop(columns=['Date'])"
      ],
      "metadata": {
        "id": "hGZxGSes26M_"
      },
      "execution_count": null,
      "outputs": []
    },
    {
      "cell_type": "code",
      "source": [
        "data1 = data.drop(columns=['Adj Close'])"
      ],
      "metadata": {
        "id": "pe4JQOCk45aN"
      },
      "execution_count": null,
      "outputs": []
    },
    {
      "cell_type": "code",
      "source": [
        "data2 = data1.drop(columns=['Volume'])"
      ],
      "metadata": {
        "id": "qhmk7O7H49aA"
      },
      "execution_count": null,
      "outputs": []
    },
    {
      "cell_type": "code",
      "source": [
        "data2.head()"
      ],
      "metadata": {
        "colab": {
          "base_uri": "https://localhost:8080/",
          "height": 206
        },
        "id": "O5k9d5rT5BH4",
        "outputId": "5441883c-5226-4dea-d253-df754e2afb7b"
      },
      "execution_count": null,
      "outputs": [
        {
          "output_type": "execute_result",
          "data": {
            "text/plain": [
              "        Open       High        Low      Close\n",
              "0  22.030001  22.049999  22.030001  22.049999\n",
              "1  22.090000  22.219999  22.090000  22.219999\n",
              "2  22.219999  22.280001  22.219999  22.280001\n",
              "3  22.200001  22.320000  22.200001  22.260000\n",
              "4  22.250000  22.260000  22.250000  22.260000"
            ],
            "text/html": [
              "\n",
              "  <div id=\"df-ffccd74e-0a55-4e67-875b-5a7cf72c5ed0\">\n",
              "    <div class=\"colab-df-container\">\n",
              "      <div>\n",
              "<style scoped>\n",
              "    .dataframe tbody tr th:only-of-type {\n",
              "        vertical-align: middle;\n",
              "    }\n",
              "\n",
              "    .dataframe tbody tr th {\n",
              "        vertical-align: top;\n",
              "    }\n",
              "\n",
              "    .dataframe thead th {\n",
              "        text-align: right;\n",
              "    }\n",
              "</style>\n",
              "<table border=\"1\" class=\"dataframe\">\n",
              "  <thead>\n",
              "    <tr style=\"text-align: right;\">\n",
              "      <th></th>\n",
              "      <th>Open</th>\n",
              "      <th>High</th>\n",
              "      <th>Low</th>\n",
              "      <th>Close</th>\n",
              "    </tr>\n",
              "  </thead>\n",
              "  <tbody>\n",
              "    <tr>\n",
              "      <th>0</th>\n",
              "      <td>22.030001</td>\n",
              "      <td>22.049999</td>\n",
              "      <td>22.030001</td>\n",
              "      <td>22.049999</td>\n",
              "    </tr>\n",
              "    <tr>\n",
              "      <th>1</th>\n",
              "      <td>22.090000</td>\n",
              "      <td>22.219999</td>\n",
              "      <td>22.090000</td>\n",
              "      <td>22.219999</td>\n",
              "    </tr>\n",
              "    <tr>\n",
              "      <th>2</th>\n",
              "      <td>22.219999</td>\n",
              "      <td>22.280001</td>\n",
              "      <td>22.219999</td>\n",
              "      <td>22.280001</td>\n",
              "    </tr>\n",
              "    <tr>\n",
              "      <th>3</th>\n",
              "      <td>22.200001</td>\n",
              "      <td>22.320000</td>\n",
              "      <td>22.200001</td>\n",
              "      <td>22.260000</td>\n",
              "    </tr>\n",
              "    <tr>\n",
              "      <th>4</th>\n",
              "      <td>22.250000</td>\n",
              "      <td>22.260000</td>\n",
              "      <td>22.250000</td>\n",
              "      <td>22.260000</td>\n",
              "    </tr>\n",
              "  </tbody>\n",
              "</table>\n",
              "</div>\n",
              "      <button class=\"colab-df-convert\" onclick=\"convertToInteractive('df-ffccd74e-0a55-4e67-875b-5a7cf72c5ed0')\"\n",
              "              title=\"Convert this dataframe to an interactive table.\"\n",
              "              style=\"display:none;\">\n",
              "        \n",
              "  <svg xmlns=\"http://www.w3.org/2000/svg\" height=\"24px\"viewBox=\"0 0 24 24\"\n",
              "       width=\"24px\">\n",
              "    <path d=\"M0 0h24v24H0V0z\" fill=\"none\"/>\n",
              "    <path d=\"M18.56 5.44l.94 2.06.94-2.06 2.06-.94-2.06-.94-.94-2.06-.94 2.06-2.06.94zm-11 1L8.5 8.5l.94-2.06 2.06-.94-2.06-.94L8.5 2.5l-.94 2.06-2.06.94zm10 10l.94 2.06.94-2.06 2.06-.94-2.06-.94-.94-2.06-.94 2.06-2.06.94z\"/><path d=\"M17.41 7.96l-1.37-1.37c-.4-.4-.92-.59-1.43-.59-.52 0-1.04.2-1.43.59L10.3 9.45l-7.72 7.72c-.78.78-.78 2.05 0 2.83L4 21.41c.39.39.9.59 1.41.59.51 0 1.02-.2 1.41-.59l7.78-7.78 2.81-2.81c.8-.78.8-2.07 0-2.86zM5.41 20L4 18.59l7.72-7.72 1.47 1.35L5.41 20z\"/>\n",
              "  </svg>\n",
              "      </button>\n",
              "      \n",
              "  <style>\n",
              "    .colab-df-container {\n",
              "      display:flex;\n",
              "      flex-wrap:wrap;\n",
              "      gap: 12px;\n",
              "    }\n",
              "\n",
              "    .colab-df-convert {\n",
              "      background-color: #E8F0FE;\n",
              "      border: none;\n",
              "      border-radius: 50%;\n",
              "      cursor: pointer;\n",
              "      display: none;\n",
              "      fill: #1967D2;\n",
              "      height: 32px;\n",
              "      padding: 0 0 0 0;\n",
              "      width: 32px;\n",
              "    }\n",
              "\n",
              "    .colab-df-convert:hover {\n",
              "      background-color: #E2EBFA;\n",
              "      box-shadow: 0px 1px 2px rgba(60, 64, 67, 0.3), 0px 1px 3px 1px rgba(60, 64, 67, 0.15);\n",
              "      fill: #174EA6;\n",
              "    }\n",
              "\n",
              "    [theme=dark] .colab-df-convert {\n",
              "      background-color: #3B4455;\n",
              "      fill: #D2E3FC;\n",
              "    }\n",
              "\n",
              "    [theme=dark] .colab-df-convert:hover {\n",
              "      background-color: #434B5C;\n",
              "      box-shadow: 0px 1px 3px 1px rgba(0, 0, 0, 0.15);\n",
              "      filter: drop-shadow(0px 1px 2px rgba(0, 0, 0, 0.3));\n",
              "      fill: #FFFFFF;\n",
              "    }\n",
              "  </style>\n",
              "\n",
              "      <script>\n",
              "        const buttonEl =\n",
              "          document.querySelector('#df-ffccd74e-0a55-4e67-875b-5a7cf72c5ed0 button.colab-df-convert');\n",
              "        buttonEl.style.display =\n",
              "          google.colab.kernel.accessAllowed ? 'block' : 'none';\n",
              "\n",
              "        async function convertToInteractive(key) {\n",
              "          const element = document.querySelector('#df-ffccd74e-0a55-4e67-875b-5a7cf72c5ed0');\n",
              "          const dataTable =\n",
              "            await google.colab.kernel.invokeFunction('convertToInteractive',\n",
              "                                                     [key], {});\n",
              "          if (!dataTable) return;\n",
              "\n",
              "          const docLinkHtml = 'Like what you see? Visit the ' +\n",
              "            '<a target=\"_blank\" href=https://colab.research.google.com/notebooks/data_table.ipynb>data table notebook</a>'\n",
              "            + ' to learn more about interactive tables.';\n",
              "          element.innerHTML = '';\n",
              "          dataTable['output_type'] = 'display_data';\n",
              "          await google.colab.output.renderOutput(dataTable, element);\n",
              "          const docLink = document.createElement('div');\n",
              "          docLink.innerHTML = docLinkHtml;\n",
              "          element.appendChild(docLink);\n",
              "        }\n",
              "      </script>\n",
              "    </div>\n",
              "  </div>\n",
              "  "
            ]
          },
          "metadata": {},
          "execution_count": 32
        }
      ]
    },
    {
      "cell_type": "code",
      "source": [
        "datamatrix=data2.to_numpy()\n",
        "print(datamatrix.shape)\n",
        "print(datamatrix)"
      ],
      "metadata": {
        "colab": {
          "base_uri": "https://localhost:8080/"
        },
        "id": "l_uk8E5utFSv",
        "outputId": "044577ab-1c42-461b-98e5-f04c2e76f734"
      },
      "execution_count": null,
      "outputs": [
        {
          "output_type": "stream",
          "name": "stdout",
          "text": [
            "(1255, 4)\n",
            "[[22.030001 22.049999 22.030001 22.049999]\n",
            " [22.09     22.219999 22.09     22.219999]\n",
            " [22.219999 22.280001 22.219999 22.280001]\n",
            " ...\n",
            " [17.9      18.01     17.75     18.01    ]\n",
            " [17.690001 18.030001 17.690001 18.      ]\n",
            " [17.99     18.030001 17.9      17.969999]]\n"
          ]
        }
      ]
    },
    {
      "cell_type": "code",
      "source": [
        "x=datamatrix[:] #,1:5\n",
        "print(x)\n",
        "print(x.shape)"
      ],
      "metadata": {
        "colab": {
          "base_uri": "https://localhost:8080/"
        },
        "id": "-hHl0Ys1tNcJ",
        "outputId": "bf25cda3-0ed2-496f-b365-c7cdc5cd9f76"
      },
      "execution_count": null,
      "outputs": [
        {
          "output_type": "stream",
          "name": "stdout",
          "text": [
            "[[22.030001 22.049999 22.030001 22.049999]\n",
            " [22.09     22.219999 22.09     22.219999]\n",
            " [22.219999 22.280001 22.219999 22.280001]\n",
            " ...\n",
            " [17.9      18.01     17.75     18.01    ]\n",
            " [17.690001 18.030001 17.690001 18.      ]\n",
            " [17.99     18.030001 17.9      17.969999]]\n",
            "(1255, 4)\n"
          ]
        }
      ]
    },
    {
      "cell_type": "markdown",
      "source": [
        "Using lazy window size of 20"
      ],
      "metadata": {
        "id": "-c28P-JlwgrA"
      }
    },
    {
      "cell_type": "code",
      "source": [
        "N=1255*4\n",
        "w=20\n",
        "print(N)\n",
        "x=np.reshape(x,N,)\n",
        "m=int(np.floor(N/w))\n",
        "print(m)"
      ],
      "metadata": {
        "colab": {
          "base_uri": "https://localhost:8080/"
        },
        "id": "X56_KLoXtUWF",
        "outputId": "76b95589-ca20-4dc8-b36f-887fecbdeae5"
      },
      "execution_count": null,
      "outputs": [
        {
          "output_type": "stream",
          "name": "stdout",
          "text": [
            "5020\n",
            "251\n"
          ]
        }
      ]
    },
    {
      "cell_type": "code",
      "source": [
        "N=w*m\n",
        "x = np.asarray(x).astype('float32')\n",
        "x=x[0:N]\n",
        "print(x.shape)"
      ],
      "metadata": {
        "colab": {
          "base_uri": "https://localhost:8080/"
        },
        "id": "fZE9yeACt8kQ",
        "outputId": "80c53ba5-045f-495f-ea3a-9bd73c9dce67"
      },
      "execution_count": null,
      "outputs": [
        {
          "output_type": "stream",
          "name": "stdout",
          "text": [
            "(5020,)\n"
          ]
        }
      ]
    },
    {
      "cell_type": "code",
      "source": [
        "zind=np.arange(1,N,20)\n",
        "print(zind)\n",
        "print(zind.shape)\n",
        "z=x[zind]\n",
        "print(z.shape)\n",
        "x=np.reshape(x,(m,w,1))\n",
        "print(x.shape)"
      ],
      "metadata": {
        "colab": {
          "base_uri": "https://localhost:8080/"
        },
        "id": "t5bKxubjuFXX",
        "outputId": "6ba71bbe-0fd8-47bf-dbf3-4e97de3de2c0"
      },
      "execution_count": null,
      "outputs": [
        {
          "output_type": "stream",
          "name": "stdout",
          "text": [
            "[   1   21   41   61   81  101  121  141  161  181  201  221  241  261\n",
            "  281  301  321  341  361  381  401  421  441  461  481  501  521  541\n",
            "  561  581  601  621  641  661  681  701  721  741  761  781  801  821\n",
            "  841  861  881  901  921  941  961  981 1001 1021 1041 1061 1081 1101\n",
            " 1121 1141 1161 1181 1201 1221 1241 1261 1281 1301 1321 1341 1361 1381\n",
            " 1401 1421 1441 1461 1481 1501 1521 1541 1561 1581 1601 1621 1641 1661\n",
            " 1681 1701 1721 1741 1761 1781 1801 1821 1841 1861 1881 1901 1921 1941\n",
            " 1961 1981 2001 2021 2041 2061 2081 2101 2121 2141 2161 2181 2201 2221\n",
            " 2241 2261 2281 2301 2321 2341 2361 2381 2401 2421 2441 2461 2481 2501\n",
            " 2521 2541 2561 2581 2601 2621 2641 2661 2681 2701 2721 2741 2761 2781\n",
            " 2801 2821 2841 2861 2881 2901 2921 2941 2961 2981 3001 3021 3041 3061\n",
            " 3081 3101 3121 3141 3161 3181 3201 3221 3241 3261 3281 3301 3321 3341\n",
            " 3361 3381 3401 3421 3441 3461 3481 3501 3521 3541 3561 3581 3601 3621\n",
            " 3641 3661 3681 3701 3721 3741 3761 3781 3801 3821 3841 3861 3881 3901\n",
            " 3921 3941 3961 3981 4001 4021 4041 4061 4081 4101 4121 4141 4161 4181\n",
            " 4201 4221 4241 4261 4281 4301 4321 4341 4361 4381 4401 4421 4441 4461\n",
            " 4481 4501 4521 4541 4561 4581 4601 4621 4641 4661 4681 4701 4721 4741\n",
            " 4761 4781 4801 4821 4841 4861 4881 4901 4921 4941 4961 4981 5001]\n",
            "(251,)\n",
            "(251,)\n",
            "(251, 20, 1)\n"
          ]
        }
      ]
    },
    {
      "cell_type": "code",
      "source": [
        "x_train=x[0:188]\n",
        "x_test=x[188:251]\n",
        "y_train=z[0:188]\n",
        "y_test=z[188:251]\n",
        "\n",
        "print(np.shape(x_train))\n",
        "print(np.shape(x_test))\n",
        "print(np.shape(y_train))\n",
        "print(np.shape(y_test))"
      ],
      "metadata": {
        "colab": {
          "base_uri": "https://localhost:8080/"
        },
        "id": "14sjLErkuczp",
        "outputId": "8520254f-2bd9-40c0-b180-0dbc30671df8"
      },
      "execution_count": null,
      "outputs": [
        {
          "output_type": "stream",
          "name": "stdout",
          "text": [
            "(188, 20, 1)\n",
            "(63, 20, 1)\n",
            "(188,)\n",
            "(63,)\n"
          ]
        }
      ]
    },
    {
      "cell_type": "code",
      "source": [
        "model = Sequential()\n",
        "model.add(LSTM(100, input_shape=(20,1), activation='relu'))\n",
        "model.add(Dense(1, activation='linear'))\n",
        "model.compile(loss='mean_squared_error', optimizer='adam', metrics=['mean_squared_error'])"
      ],
      "metadata": {
        "id": "Q1E6v43gu6tA",
        "colab": {
          "base_uri": "https://localhost:8080/"
        },
        "outputId": "fe9866df-5f2a-427b-f0bd-2eb3308ae069"
      },
      "execution_count": null,
      "outputs": [
        {
          "output_type": "stream",
          "name": "stderr",
          "text": [
            "WARNING:tensorflow:Layer lstm will not use cuDNN kernels since it doesn't meet the criteria. It will use a generic GPU kernel as fallback when running on GPU.\n"
          ]
        }
      ]
    },
    {
      "cell_type": "code",
      "source": [
        "history = model.fit(x_train, y_train, epochs = 15, verbose = 1)"
      ],
      "metadata": {
        "colab": {
          "base_uri": "https://localhost:8080/"
        },
        "id": "e7Kff7A8vTZs",
        "outputId": "0fbd345b-f693-431e-eef8-5ce8219f129c"
      },
      "execution_count": null,
      "outputs": [
        {
          "output_type": "stream",
          "name": "stdout",
          "text": [
            "Epoch 1/15\n",
            "6/6 [==============================] - 4s 34ms/step - loss: 268.4010 - mean_squared_error: 268.4010\n",
            "Epoch 2/15\n",
            "6/6 [==============================] - 0s 30ms/step - loss: 12.5246 - mean_squared_error: 12.5246\n",
            "Epoch 3/15\n",
            "6/6 [==============================] - 0s 29ms/step - loss: 2.3809 - mean_squared_error: 2.3809\n",
            "Epoch 4/15\n",
            "6/6 [==============================] - 0s 32ms/step - loss: 1.2754 - mean_squared_error: 1.2754\n",
            "Epoch 5/15\n",
            "6/6 [==============================] - 0s 31ms/step - loss: 0.6407 - mean_squared_error: 0.6407\n",
            "Epoch 6/15\n",
            "6/6 [==============================] - 0s 31ms/step - loss: 0.5076 - mean_squared_error: 0.5076\n",
            "Epoch 7/15\n",
            "6/6 [==============================] - 0s 28ms/step - loss: 0.3943 - mean_squared_error: 0.3943\n",
            "Epoch 8/15\n",
            "6/6 [==============================] - 0s 28ms/step - loss: 0.2424 - mean_squared_error: 0.2424\n",
            "Epoch 9/15\n",
            "6/6 [==============================] - 0s 30ms/step - loss: 0.1861 - mean_squared_error: 0.1861\n",
            "Epoch 10/15\n",
            "6/6 [==============================] - 0s 32ms/step - loss: 0.1297 - mean_squared_error: 0.1297\n",
            "Epoch 11/15\n",
            "6/6 [==============================] - 0s 33ms/step - loss: 0.0805 - mean_squared_error: 0.0805\n",
            "Epoch 12/15\n",
            "6/6 [==============================] - 0s 33ms/step - loss: 0.0853 - mean_squared_error: 0.0853\n",
            "Epoch 13/15\n",
            "6/6 [==============================] - 0s 34ms/step - loss: 0.0769 - mean_squared_error: 0.0769\n",
            "Epoch 14/15\n",
            "6/6 [==============================] - 0s 33ms/step - loss: 0.0729 - mean_squared_error: 0.0729\n",
            "Epoch 15/15\n",
            "6/6 [==============================] - 0s 33ms/step - loss: 0.0631 - mean_squared_error: 0.0631\n"
          ]
        }
      ]
    },
    {
      "cell_type": "code",
      "source": [
        "y_pred=model.predict(x_test)"
      ],
      "metadata": {
        "colab": {
          "base_uri": "https://localhost:8080/"
        },
        "id": "7akrHvfivqfG",
        "outputId": "55829756-fc09-48c7-af89-a8be83b9494b"
      },
      "execution_count": null,
      "outputs": [
        {
          "output_type": "stream",
          "name": "stdout",
          "text": [
            "2/2 [==============================] - 0s 9ms/step\n"
          ]
        }
      ]
    },
    {
      "cell_type": "code",
      "source": [
        "plt.plot(y_test)\n",
        "plt.plot(y_pred)\n",
        "plt.title('ground truth labels vs predicted')\n",
        "plt.ylabel('Y_values')\n",
        "plt.xlabel('number of samples')\n",
        "plt.legend(['train', 'test'], loc='upper left')\n"
      ],
      "metadata": {
        "colab": {
          "base_uri": "https://localhost:8080/",
          "height": 313
        },
        "id": "xuxqLB8xwFrY",
        "outputId": "d5641cbe-0665-4333-ea91-87363ea5ba90"
      },
      "execution_count": null,
      "outputs": [
        {
          "output_type": "execute_result",
          "data": {
            "text/plain": [
              "<matplotlib.legend.Legend at 0x7f6ada240090>"
            ]
          },
          "metadata": {},
          "execution_count": 13
        },
        {
          "output_type": "display_data",
          "data": {
            "text/plain": [
              "<Figure size 432x288 with 1 Axes>"
            ],
            "image/png": "[encoded data removed]"
          },
          "metadata": {
            "needs_background": "light"
          }
        }
      ]
    },
    {
      "cell_type": "markdown",
      "source": [
        "Using proper window size of 20"
      ],
      "metadata": {
        "id": "w4OAiCuNwkWu"
      }
    },
    {
      "cell_type": "code",
      "source": [
        "N=1255*4\n",
        "w=20\n",
        "print(N)\n",
        "x=np.reshape(x,N,)\n",
        "m=int(np.floor(N/w))\n",
        "print(m)"
      ],
      "metadata": {
        "colab": {
          "base_uri": "https://localhost:8080/"
        },
        "id": "h5bufPsjwOX3",
        "outputId": "b70a206a-aae7-4ead-86ff-6efe2513215d"
      },
      "execution_count": null,
      "outputs": [
        {
          "output_type": "stream",
          "name": "stdout",
          "text": [
            "5020\n",
            "251\n"
          ]
        }
      ]
    },
    {
      "cell_type": "code",
      "source": [
        "N=w*m\n",
        "x = np.asarray(x).astype('float32')\n",
        "xt=x[0:N+1]\n",
        "print(xt.shape)\n",
        "x=x[0:N]\n",
        "print(np.shape(x))"
      ],
      "metadata": {
        "colab": {
          "base_uri": "https://localhost:8080/"
        },
        "id": "vrJ9Pu5lwonX",
        "outputId": "1a0a879a-7def-43aa-de9f-83e9c243f198"
      },
      "execution_count": null,
      "outputs": [
        {
          "output_type": "stream",
          "name": "stdout",
          "text": [
            "(5020,)\n",
            "(5020,)\n"
          ]
        }
      ]
    },
    {
      "cell_type": "code",
      "source": [
        "zind=np.arange(1,N,20) #20\n",
        "print(zind)\n",
        "print(zind.shape)\n",
        "z=x[zind]\n",
        "print(z.shape)\n",
        "x=np.reshape(x,(m,w,1))\n",
        "print(x.shape)"
      ],
      "metadata": {
        "colab": {
          "base_uri": "https://localhost:8080/"
        },
        "id": "T65gDqo1wopq",
        "outputId": "96c83bd7-aac8-42be-a3ad-6d6492f3543d"
      },
      "execution_count": null,
      "outputs": [
        {
          "output_type": "stream",
          "name": "stdout",
          "text": [
            "[   1   21   41   61   81  101  121  141  161  181  201  221  241  261\n",
            "  281  301  321  341  361  381  401  421  441  461  481  501  521  541\n",
            "  561  581  601  621  641  661  681  701  721  741  761  781  801  821\n",
            "  841  861  881  901  921  941  961  981 1001 1021 1041 1061 1081 1101\n",
            " 1121 1141 1161 1181 1201 1221 1241 1261 1281 1301 1321 1341 1361 1381\n",
            " 1401 1421 1441 1461 1481 1501 1521 1541 1561 1581 1601 1621 1641 1661\n",
            " 1681 1701 1721 1741 1761 1781 1801 1821 1841 1861 1881 1901 1921 1941\n",
            " 1961 1981 2001 2021 2041 2061 2081 2101 2121 2141 2161 2181 2201 2221\n",
            " 2241 2261 2281 2301 2321 2341 2361 2381 2401 2421 2441 2461 2481 2501\n",
            " 2521 2541 2561 2581 2601 2621 2641 2661 2681 2701 2721 2741 2761 2781\n",
            " 2801 2821 2841 2861 2881 2901 2921 2941 2961 2981 3001 3021 3041 3061\n",
            " 3081 3101 3121 3141 3161 3181 3201 3221 3241 3261 3281 3301 3321 3341\n",
            " 3361 3381 3401 3421 3441 3461 3481 3501 3521 3541 3561 3581 3601 3621\n",
            " 3641 3661 3681 3701 3721 3741 3761 3781 3801 3821 3841 3861 3881 3901\n",
            " 3921 3941 3961 3981 4001 4021 4041 4061 4081 4101 4121 4141 4161 4181\n",
            " 4201 4221 4241 4261 4281 4301 4321 4341 4361 4381 4401 4421 4441 4461\n",
            " 4481 4501 4521 4541 4561 4581 4601 4621 4641 4661 4681 4701 4721 4741\n",
            " 4761 4781 4801 4821 4841 4861 4881 4901 4921 4941 4961 4981 5001]\n",
            "(251,)\n",
            "(251,)\n",
            "(251, 20, 1)\n"
          ]
        }
      ]
    },
    {
      "cell_type": "code",
      "source": [
        "def prepare_data(timeseries_data, n_features):\n",
        "  X, y = [],[]\n",
        "  for i in range(len(timeseries_data)):\n",
        "    #find the end of this pattern\n",
        "    end_ix = i + n_features\n",
        "    #check if we are beyond the sequence\n",
        "    if end_ix > len(timeseries_data)-1:\n",
        "      break\n",
        "    #gather input and output parts of the pattern\n",
        "    seq_x, seq_y = timeseries_data[i:end_ix], timeseries_data[end_ix]\n",
        "    X.append(seq_x)\n",
        "    y.append(seq_y)\n",
        "  return np.array(X), np.array(y)"
      ],
      "metadata": {
        "id": "xu29pEAM3quL"
      },
      "execution_count": null,
      "outputs": []
    },
    {
      "cell_type": "code",
      "source": [
        "#split into samples\n",
        "x,z = prepare_data(x,w)\n",
        "print(x.shape), print(z.shape)"
      ],
      "metadata": {
        "colab": {
          "base_uri": "https://localhost:8080/"
        },
        "id": "n59i62VS3sbP",
        "outputId": "aefe0104-2229-495f-a65f-b5f14b13b8c8"
      },
      "execution_count": null,
      "outputs": [
        {
          "output_type": "stream",
          "name": "stdout",
          "text": [
            "(5000, 20)\n",
            "(5000,)\n"
          ]
        },
        {
          "output_type": "execute_result",
          "data": {
            "text/plain": [
              "(None, None)"
            ]
          },
          "metadata": {},
          "execution_count": 38
        }
      ]
    },
    {
      "cell_type": "code",
      "source": [
        "x_train=x[0:4000]\n",
        "x_test=x[4000:5000]\n",
        "y_train=z[0:4000]\n",
        "y_test=z[4000:5000]\n",
        "\n",
        "print(np.shape(x_train))\n",
        "print(np.shape(x_test))\n",
        "print(np.shape(y_train))\n",
        "print(np.shape(y_test))"
      ],
      "metadata": {
        "id": "dLMcO0I7wosA",
        "colab": {
          "base_uri": "https://localhost:8080/"
        },
        "outputId": "f6ec241b-d2e1-4e4e-d3ca-4d3e08d13378"
      },
      "execution_count": null,
      "outputs": [
        {
          "output_type": "stream",
          "name": "stdout",
          "text": [
            "(4000, 20)\n",
            "(1000, 20)\n",
            "(4000,)\n",
            "(1000,)\n"
          ]
        }
      ]
    },
    {
      "cell_type": "code",
      "source": [
        "model = Sequential()\n",
        "model.add(LSTM(250, input_shape=(20,1), activation='relu'))\n",
        "model.add(Dense(1, activation='linear'))\n",
        "model.compile(loss='mean_squared_error', optimizer='adam')"
      ],
      "metadata": {
        "id": "ycMd0dE9woup"
      },
      "execution_count": null,
      "outputs": []
    },
    {
      "cell_type": "code",
      "source": [
        "history = model.fit(x_train, y_train, epochs = 25, verbose = 1)"
      ],
      "metadata": {
        "id": "0TNSxG0Awowu",
        "colab": {
          "base_uri": "https://localhost:8080/"
        },
        "outputId": "1b0bbe0a-24aa-4201-cbcf-cc0a0140817f"
      },
      "execution_count": null,
      "outputs": [
        {
          "output_type": "stream",
          "name": "stdout",
          "text": [
            "Epoch 1/25\n",
            "125/125 [==============================] - 9s 63ms/step - loss: 9.1855\n",
            "Epoch 2/25\n",
            "125/125 [==============================] - 8s 62ms/step - loss: 0.0637\n",
            "Epoch 3/25\n",
            "125/125 [==============================] - 8s 61ms/step - loss: 0.0568\n",
            "Epoch 4/25\n",
            "125/125 [==============================] - 8s 63ms/step - loss: 0.0582\n",
            "Epoch 5/25\n",
            "125/125 [==============================] - 8s 61ms/step - loss: 0.0571\n",
            "Epoch 6/25\n",
            "125/125 [==============================] - 8s 61ms/step - loss: 0.0513\n",
            "Epoch 7/25\n",
            "125/125 [==============================] - 9s 72ms/step - loss: 0.0503\n",
            "Epoch 8/25\n",
            "125/125 [==============================] - 8s 64ms/step - loss: 0.0463\n",
            "Epoch 9/25\n",
            "125/125 [==============================] - 8s 63ms/step - loss: 0.0470\n",
            "Epoch 10/25\n",
            "125/125 [==============================] - 8s 62ms/step - loss: 0.0600\n",
            "Epoch 11/25\n",
            "125/125 [==============================] - 8s 62ms/step - loss: 0.0504\n",
            "Epoch 12/25\n",
            "125/125 [==============================] - 8s 61ms/step - loss: 0.0452\n",
            "Epoch 13/25\n",
            "125/125 [==============================] - 8s 61ms/step - loss: 0.0433\n",
            "Epoch 14/25\n",
            "125/125 [==============================] - 9s 73ms/step - loss: 0.0510\n",
            "Epoch 15/25\n",
            "125/125 [==============================] - 8s 63ms/step - loss: 0.0424\n",
            "Epoch 16/25\n",
            "125/125 [==============================] - 8s 64ms/step - loss: 0.0374\n",
            "Epoch 17/25\n",
            "125/125 [==============================] - 8s 62ms/step - loss: 0.0402\n",
            "Epoch 18/25\n",
            "125/125 [==============================] - 8s 62ms/step - loss: 0.0351\n",
            "Epoch 19/25\n",
            "125/125 [==============================] - 8s 63ms/step - loss: 0.0451\n",
            "Epoch 20/25\n",
            "125/125 [==============================] - 8s 62ms/step - loss: 0.0398\n",
            "Epoch 21/25\n",
            "125/125 [==============================] - 8s 63ms/step - loss: 0.0477\n",
            "Epoch 22/25\n",
            "125/125 [==============================] - 8s 63ms/step - loss: 0.0350\n",
            "Epoch 23/25\n",
            "125/125 [==============================] - 8s 64ms/step - loss: 0.0434\n",
            "Epoch 24/25\n",
            "125/125 [==============================] - 8s 64ms/step - loss: 0.0368\n",
            "Epoch 25/25\n",
            "125/125 [==============================] - 8s 63ms/step - loss: 0.0339\n"
          ]
        }
      ]
    },
    {
      "cell_type": "code",
      "source": [
        "y_pred_2=model.predict(x_test)"
      ],
      "metadata": {
        "colab": {
          "base_uri": "https://localhost:8080/"
        },
        "id": "dIY12ovLyprQ",
        "outputId": "f0a235f8-65ef-4645-b2c1-05bade12c333"
      },
      "execution_count": null,
      "outputs": [
        {
          "output_type": "stream",
          "name": "stdout",
          "text": [
            "32/32 [==============================] - 1s 22ms/step\n"
          ]
        }
      ]
    },
    {
      "cell_type": "code",
      "source": [
        "plt.plot(y_test)\n",
        "plt.plot(y_pred_2)\n",
        "plt.title('ground truth labels vs predicted')\n",
        "plt.ylabel('Y_values')\n",
        "plt.xlabel('number of samples')\n",
        "plt.legend(['train', 'test'], loc='upper left')\n"
      ],
      "metadata": {
        "colab": {
          "base_uri": "https://localhost:8080/",
          "height": 313
        },
        "id": "68BygSSNytOG",
        "outputId": "82cb8dcd-cf5f-4468-b0c7-69cd86663fd9"
      },
      "execution_count": null,
      "outputs": [
        {
          "output_type": "execute_result",
          "data": {
            "text/plain": [
              "<matplotlib.legend.Legend at 0x7f61a0a47ad0>"
            ]
          },
          "metadata": {},
          "execution_count": 48
        },
        {
          "output_type": "display_data",
          "data": {
            "text/plain": [
              "<Figure size 432x288 with 1 Axes>"
            ],
            "image/png": "[encoded data removed]"
          },
          "metadata": {
            "needs_background": "light"
          }
        }
      ]
    },
    {
      "cell_type": "code",
      "source": [],
      "metadata": {
        "id": "E5CPjO5zywAM"
      },
      "execution_count": null,
      "outputs": []
    }
  ]
}